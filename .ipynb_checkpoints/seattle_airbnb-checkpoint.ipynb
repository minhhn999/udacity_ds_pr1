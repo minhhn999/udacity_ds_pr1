{
 "cells": [
  {
   "cell_type": "markdown",
   "id": "7745634a",
   "metadata": {
    "slideshow": {
     "slide_type": "slide"
    }
   },
   "source": [
    "# Homestay Price At Seatle Investigation\n",
    "\n",
    "<ul>\n",
    "<li><a href=\"#overview\">Project overview</a></li>\n",
    "<li><a href=\"#bussiness_understanding\">Bussiness Understanding</a></li>\n",
    "<li><a href=\"#data_understanding\">Data Understanding</a></li>\n",
    "<li><a href=\"#prepare\">Prepare Data</a></li>\n",
    "<li><a href=\"#evaluate\">Evaluate the Results</a></li>\n",
    "<li><a href=\"#conclusion\">Conclusion</a></li>\n",
    "<li><a href=\"#deploy\">Deploy</a></li>\n",
    "</ul>"
   ]
  },
  {
   "cell_type": "markdown",
   "id": "d3ea52f9",
   "metadata": {
    "slideshow": {
     "slide_type": "slide"
    }
   },
   "source": [
    "<a id='overview'></a>\n",
    "## Project overview\n",
    "    Since 2008, guests and hosts have used Airbnb to travel in a more unique, personalized way. As part of the Airbnb Inside initiative, this dataset describes the listing activity of homestays in Seattle, WA. The following Airbnb activity is included in this Seattle dataset:\n",
    "    - Listings, including full descriptions and average review score\n",
    "    - Reviews, including unique id for each reviewer and detailed comments\n",
    "    - Calendar, including listing id and the price and availability for that day\n",
    "    In this project i would like to use only listings.csv file for my investigation."
   ]
  },
  {
   "cell_type": "markdown",
   "id": "9f3a144d",
   "metadata": {
    "slideshow": {
     "slide_type": "slide"
    }
   },
   "source": [
    "<a id='bussiness_understanding'></a>\n",
    "### Bussiness Understanding:\n",
    "    When investigating with seatle data, i'm most interested in checking price of homestay to know about all characteristics affected to the price. So, my questions are:\n",
    "    - Which quatities affect to price and what is the most affected to price ?\n",
    "    - How kind of neighbourhood group cleansed affected to price. which has the most price?\n",
    "    - How kind of homestay affected to price. which has the most price?\n",
    "    - How kind of room type affected to price. which has the most price?"
   ]
  },
  {
   "cell_type": "markdown",
   "id": "db6d1546",
   "metadata": {
    "slideshow": {
     "slide_type": "slide"
    }
   },
   "source": [
    "<a id='data_understanding'></a>\n",
    "### Data Understanding:\n",
    "    As mentioned above, i will use listings dataset. this data included 3818 and 92 columns included quantitical columns and categorical columns. For this huge of columns that make more difficult to statistic and maybe some columns not good for my investigation, i prefer to clone to new dataset with some columns which i feel will be good for my investigation."
   ]
  },
  {
   "cell_type": "markdown",
   "id": "d20ea0d7",
   "metadata": {
    "slideshow": {
     "slide_type": "slide"
    }
   },
   "source": [
    "<a id='prepare'></a>\n",
    "### Prepare Data\n",
    "    In this step, i will read listings data, then create new dataset with expected columns. The data has missed values,so i will clean data by fill value or remove missed data. After that, i will convert datatype of price column to number."
   ]
  },
  {
   "cell_type": "markdown",
   "id": "a3b9b852",
   "metadata": {
    "slideshow": {
     "slide_type": "skip"
    }
   },
   "source": [
    "**import library and read dataset from csv file**"
   ]
  },
  {
   "cell_type": "code",
   "execution_count": 1,
   "id": "ea5c13ce",
   "metadata": {
    "slideshow": {
     "slide_type": "skip"
    }
   },
   "outputs": [
    {
     "data": {
      "text/html": [
       "<div>\n",
       "<style scoped>\n",
       "    .dataframe tbody tr th:only-of-type {\n",
       "        vertical-align: middle;\n",
       "    }\n",
       "\n",
       "    .dataframe tbody tr th {\n",
       "        vertical-align: top;\n",
       "    }\n",
       "\n",
       "    .dataframe thead th {\n",
       "        text-align: right;\n",
       "    }\n",
       "</style>\n",
       "<table border=\"1\" class=\"dataframe\">\n",
       "  <thead>\n",
       "    <tr style=\"text-align: right;\">\n",
       "      <th></th>\n",
       "      <th>id</th>\n",
       "      <th>listing_url</th>\n",
       "      <th>scrape_id</th>\n",
       "      <th>last_scraped</th>\n",
       "      <th>name</th>\n",
       "      <th>summary</th>\n",
       "      <th>space</th>\n",
       "      <th>description</th>\n",
       "      <th>experiences_offered</th>\n",
       "      <th>neighborhood_overview</th>\n",
       "      <th>...</th>\n",
       "      <th>review_scores_value</th>\n",
       "      <th>requires_license</th>\n",
       "      <th>license</th>\n",
       "      <th>jurisdiction_names</th>\n",
       "      <th>instant_bookable</th>\n",
       "      <th>cancellation_policy</th>\n",
       "      <th>require_guest_profile_picture</th>\n",
       "      <th>require_guest_phone_verification</th>\n",
       "      <th>calculated_host_listings_count</th>\n",
       "      <th>reviews_per_month</th>\n",
       "    </tr>\n",
       "  </thead>\n",
       "  <tbody>\n",
       "    <tr>\n",
       "      <th>0</th>\n",
       "      <td>241032</td>\n",
       "      <td>https://www.airbnb.com/rooms/241032</td>\n",
       "      <td>20160104002432</td>\n",
       "      <td>2016-01-04</td>\n",
       "      <td>Stylish Queen Anne Apartment</td>\n",
       "      <td>NaN</td>\n",
       "      <td>Make your self at home in this charming one-be...</td>\n",
       "      <td>Make your self at home in this charming one-be...</td>\n",
       "      <td>none</td>\n",
       "      <td>NaN</td>\n",
       "      <td>...</td>\n",
       "      <td>10.0</td>\n",
       "      <td>f</td>\n",
       "      <td>NaN</td>\n",
       "      <td>WASHINGTON</td>\n",
       "      <td>f</td>\n",
       "      <td>moderate</td>\n",
       "      <td>f</td>\n",
       "      <td>f</td>\n",
       "      <td>2</td>\n",
       "      <td>4.07</td>\n",
       "    </tr>\n",
       "    <tr>\n",
       "      <th>1</th>\n",
       "      <td>953595</td>\n",
       "      <td>https://www.airbnb.com/rooms/953595</td>\n",
       "      <td>20160104002432</td>\n",
       "      <td>2016-01-04</td>\n",
       "      <td>Bright &amp; Airy Queen Anne Apartment</td>\n",
       "      <td>Chemically sensitive? We've removed the irrita...</td>\n",
       "      <td>Beautiful, hypoallergenic apartment in an extr...</td>\n",
       "      <td>Chemically sensitive? We've removed the irrita...</td>\n",
       "      <td>none</td>\n",
       "      <td>Queen Anne is a wonderful, truly functional vi...</td>\n",
       "      <td>...</td>\n",
       "      <td>10.0</td>\n",
       "      <td>f</td>\n",
       "      <td>NaN</td>\n",
       "      <td>WASHINGTON</td>\n",
       "      <td>f</td>\n",
       "      <td>strict</td>\n",
       "      <td>t</td>\n",
       "      <td>t</td>\n",
       "      <td>6</td>\n",
       "      <td>1.48</td>\n",
       "    </tr>\n",
       "    <tr>\n",
       "      <th>2</th>\n",
       "      <td>3308979</td>\n",
       "      <td>https://www.airbnb.com/rooms/3308979</td>\n",
       "      <td>20160104002432</td>\n",
       "      <td>2016-01-04</td>\n",
       "      <td>New Modern House-Amazing water view</td>\n",
       "      <td>New modern house built in 2013.  Spectacular s...</td>\n",
       "      <td>Our house is modern, light and fresh with a wa...</td>\n",
       "      <td>New modern house built in 2013.  Spectacular s...</td>\n",
       "      <td>none</td>\n",
       "      <td>Upper Queen Anne is a charming neighborhood fu...</td>\n",
       "      <td>...</td>\n",
       "      <td>10.0</td>\n",
       "      <td>f</td>\n",
       "      <td>NaN</td>\n",
       "      <td>WASHINGTON</td>\n",
       "      <td>f</td>\n",
       "      <td>strict</td>\n",
       "      <td>f</td>\n",
       "      <td>f</td>\n",
       "      <td>2</td>\n",
       "      <td>1.15</td>\n",
       "    </tr>\n",
       "    <tr>\n",
       "      <th>3</th>\n",
       "      <td>7421966</td>\n",
       "      <td>https://www.airbnb.com/rooms/7421966</td>\n",
       "      <td>20160104002432</td>\n",
       "      <td>2016-01-04</td>\n",
       "      <td>Queen Anne Chateau</td>\n",
       "      <td>A charming apartment that sits atop Queen Anne...</td>\n",
       "      <td>NaN</td>\n",
       "      <td>A charming apartment that sits atop Queen Anne...</td>\n",
       "      <td>none</td>\n",
       "      <td>NaN</td>\n",
       "      <td>...</td>\n",
       "      <td>NaN</td>\n",
       "      <td>f</td>\n",
       "      <td>NaN</td>\n",
       "      <td>WASHINGTON</td>\n",
       "      <td>f</td>\n",
       "      <td>flexible</td>\n",
       "      <td>f</td>\n",
       "      <td>f</td>\n",
       "      <td>1</td>\n",
       "      <td>NaN</td>\n",
       "    </tr>\n",
       "    <tr>\n",
       "      <th>4</th>\n",
       "      <td>278830</td>\n",
       "      <td>https://www.airbnb.com/rooms/278830</td>\n",
       "      <td>20160104002432</td>\n",
       "      <td>2016-01-04</td>\n",
       "      <td>Charming craftsman 3 bdm house</td>\n",
       "      <td>Cozy family craftman house in beautiful neighb...</td>\n",
       "      <td>Cozy family craftman house in beautiful neighb...</td>\n",
       "      <td>Cozy family craftman house in beautiful neighb...</td>\n",
       "      <td>none</td>\n",
       "      <td>We are in the beautiful neighborhood of Queen ...</td>\n",
       "      <td>...</td>\n",
       "      <td>9.0</td>\n",
       "      <td>f</td>\n",
       "      <td>NaN</td>\n",
       "      <td>WASHINGTON</td>\n",
       "      <td>f</td>\n",
       "      <td>strict</td>\n",
       "      <td>f</td>\n",
       "      <td>f</td>\n",
       "      <td>1</td>\n",
       "      <td>0.89</td>\n",
       "    </tr>\n",
       "  </tbody>\n",
       "</table>\n",
       "<p>5 rows × 92 columns</p>\n",
       "</div>"
      ],
      "text/plain": [
       "        id                           listing_url       scrape_id last_scraped  \\\n",
       "0   241032   https://www.airbnb.com/rooms/241032  20160104002432   2016-01-04   \n",
       "1   953595   https://www.airbnb.com/rooms/953595  20160104002432   2016-01-04   \n",
       "2  3308979  https://www.airbnb.com/rooms/3308979  20160104002432   2016-01-04   \n",
       "3  7421966  https://www.airbnb.com/rooms/7421966  20160104002432   2016-01-04   \n",
       "4   278830   https://www.airbnb.com/rooms/278830  20160104002432   2016-01-04   \n",
       "\n",
       "                                  name  \\\n",
       "0         Stylish Queen Anne Apartment   \n",
       "1   Bright & Airy Queen Anne Apartment   \n",
       "2  New Modern House-Amazing water view   \n",
       "3                   Queen Anne Chateau   \n",
       "4       Charming craftsman 3 bdm house   \n",
       "\n",
       "                                             summary  \\\n",
       "0                                                NaN   \n",
       "1  Chemically sensitive? We've removed the irrita...   \n",
       "2  New modern house built in 2013.  Spectacular s...   \n",
       "3  A charming apartment that sits atop Queen Anne...   \n",
       "4  Cozy family craftman house in beautiful neighb...   \n",
       "\n",
       "                                               space  \\\n",
       "0  Make your self at home in this charming one-be...   \n",
       "1  Beautiful, hypoallergenic apartment in an extr...   \n",
       "2  Our house is modern, light and fresh with a wa...   \n",
       "3                                                NaN   \n",
       "4  Cozy family craftman house in beautiful neighb...   \n",
       "\n",
       "                                         description experiences_offered  \\\n",
       "0  Make your self at home in this charming one-be...                none   \n",
       "1  Chemically sensitive? We've removed the irrita...                none   \n",
       "2  New modern house built in 2013.  Spectacular s...                none   \n",
       "3  A charming apartment that sits atop Queen Anne...                none   \n",
       "4  Cozy family craftman house in beautiful neighb...                none   \n",
       "\n",
       "                               neighborhood_overview  ... review_scores_value  \\\n",
       "0                                                NaN  ...                10.0   \n",
       "1  Queen Anne is a wonderful, truly functional vi...  ...                10.0   \n",
       "2  Upper Queen Anne is a charming neighborhood fu...  ...                10.0   \n",
       "3                                                NaN  ...                 NaN   \n",
       "4  We are in the beautiful neighborhood of Queen ...  ...                 9.0   \n",
       "\n",
       "  requires_license license jurisdiction_names instant_bookable  \\\n",
       "0                f     NaN         WASHINGTON                f   \n",
       "1                f     NaN         WASHINGTON                f   \n",
       "2                f     NaN         WASHINGTON                f   \n",
       "3                f     NaN         WASHINGTON                f   \n",
       "4                f     NaN         WASHINGTON                f   \n",
       "\n",
       "  cancellation_policy  require_guest_profile_picture  \\\n",
       "0            moderate                              f   \n",
       "1              strict                              t   \n",
       "2              strict                              f   \n",
       "3            flexible                              f   \n",
       "4              strict                              f   \n",
       "\n",
       "  require_guest_phone_verification calculated_host_listings_count  \\\n",
       "0                                f                              2   \n",
       "1                                t                              6   \n",
       "2                                f                              2   \n",
       "3                                f                              1   \n",
       "4                                f                              1   \n",
       "\n",
       "  reviews_per_month  \n",
       "0              4.07  \n",
       "1              1.48  \n",
       "2              1.15  \n",
       "3               NaN  \n",
       "4              0.89  \n",
       "\n",
       "[5 rows x 92 columns]"
      ]
     },
     "execution_count": 1,
     "metadata": {},
     "output_type": "execute_result"
    }
   ],
   "source": [
    "import numpy as np\n",
    "import pandas as pd\n",
    "import matplotlib.pyplot as plt\n",
    "import seaborn as sns\n",
    "%matplotlib inline\n",
    "\n",
    "df = pd.read_csv('./listings.csv')\n",
    "\n",
    "df.head()"
   ]
  },
  {
   "cell_type": "code",
   "execution_count": 2,
   "id": "418462a8",
   "metadata": {
    "slideshow": {
     "slide_type": "skip"
    }
   },
   "outputs": [
    {
     "name": "stdout",
     "output_type": "stream",
     "text": [
      "Index(['id', 'listing_url', 'scrape_id', 'last_scraped', 'name', 'summary',\n",
      "       'space', 'description', 'experiences_offered', 'neighborhood_overview',\n",
      "       'notes', 'transit', 'thumbnail_url', 'medium_url', 'picture_url',\n",
      "       'xl_picture_url', 'host_id', 'host_url', 'host_name', 'host_since',\n",
      "       'host_location', 'host_about', 'host_response_time',\n",
      "       'host_response_rate', 'host_acceptance_rate', 'host_is_superhost',\n",
      "       'host_thumbnail_url', 'host_picture_url', 'host_neighbourhood',\n",
      "       'host_listings_count', 'host_total_listings_count',\n",
      "       'host_verifications', 'host_has_profile_pic', 'host_identity_verified',\n",
      "       'street', 'neighbourhood', 'neighbourhood_cleansed',\n",
      "       'neighbourhood_group_cleansed', 'city', 'state', 'zipcode', 'market',\n",
      "       'smart_location', 'country_code', 'country', 'latitude', 'longitude',\n",
      "       'is_location_exact', 'property_type', 'room_type', 'accommodates',\n",
      "       'bathrooms', 'bedrooms', 'beds', 'bed_type', 'amenities', 'square_feet',\n",
      "       'price', 'weekly_price', 'monthly_price', 'security_deposit',\n",
      "       'cleaning_fee', 'guests_included', 'extra_people', 'minimum_nights',\n",
      "       'maximum_nights', 'calendar_updated', 'has_availability',\n",
      "       'availability_30', 'availability_60', 'availability_90',\n",
      "       'availability_365', 'calendar_last_scraped', 'number_of_reviews',\n",
      "       'first_review', 'last_review', 'review_scores_rating',\n",
      "       'review_scores_accuracy', 'review_scores_cleanliness',\n",
      "       'review_scores_checkin', 'review_scores_communication',\n",
      "       'review_scores_location', 'review_scores_value', 'requires_license',\n",
      "       'license', 'jurisdiction_names', 'instant_bookable',\n",
      "       'cancellation_policy', 'require_guest_profile_picture',\n",
      "       'require_guest_phone_verification', 'calculated_host_listings_count',\n",
      "       'reviews_per_month'],\n",
      "      dtype='object')\n"
     ]
    },
    {
     "data": {
      "text/plain": [
       "(3818, 92)"
      ]
     },
     "execution_count": 2,
     "metadata": {},
     "output_type": "execute_result"
    }
   ],
   "source": [
    "print(df.columns)\n",
    "df.shape"
   ]
  },
  {
   "cell_type": "markdown",
   "id": "f5dc6928",
   "metadata": {
    "slideshow": {
     "slide_type": "slide"
    }
   },
   "source": [
    "**create new dataset by copy from original dataset then remove unwanted columns.**"
   ]
  },
  {
   "cell_type": "code",
   "execution_count": 3,
   "id": "5e65735f",
   "metadata": {
    "slideshow": {
     "slide_type": "skip"
    }
   },
   "outputs": [
    {
     "data": {
      "text/html": [
       "<div>\n",
       "<style scoped>\n",
       "    .dataframe tbody tr th:only-of-type {\n",
       "        vertical-align: middle;\n",
       "    }\n",
       "\n",
       "    .dataframe tbody tr th {\n",
       "        vertical-align: top;\n",
       "    }\n",
       "\n",
       "    .dataframe thead th {\n",
       "        text-align: right;\n",
       "    }\n",
       "</style>\n",
       "<table border=\"1\" class=\"dataframe\">\n",
       "  <thead>\n",
       "    <tr style=\"text-align: right;\">\n",
       "      <th></th>\n",
       "      <th>neighbourhood_group_cleansed</th>\n",
       "      <th>property_type</th>\n",
       "      <th>room_type</th>\n",
       "      <th>bathrooms</th>\n",
       "      <th>bedrooms</th>\n",
       "      <th>beds</th>\n",
       "      <th>bed_type</th>\n",
       "      <th>price</th>\n",
       "      <th>security_deposit</th>\n",
       "      <th>cleaning_fee</th>\n",
       "      <th>guests_included</th>\n",
       "      <th>extra_people</th>\n",
       "    </tr>\n",
       "  </thead>\n",
       "  <tbody>\n",
       "    <tr>\n",
       "      <th>0</th>\n",
       "      <td>Queen Anne</td>\n",
       "      <td>Apartment</td>\n",
       "      <td>Entire home/apt</td>\n",
       "      <td>1.0</td>\n",
       "      <td>1.0</td>\n",
       "      <td>1.0</td>\n",
       "      <td>Real Bed</td>\n",
       "      <td>$85.00</td>\n",
       "      <td>NaN</td>\n",
       "      <td>NaN</td>\n",
       "      <td>2</td>\n",
       "      <td>$5.00</td>\n",
       "    </tr>\n",
       "    <tr>\n",
       "      <th>1</th>\n",
       "      <td>Queen Anne</td>\n",
       "      <td>Apartment</td>\n",
       "      <td>Entire home/apt</td>\n",
       "      <td>1.0</td>\n",
       "      <td>1.0</td>\n",
       "      <td>1.0</td>\n",
       "      <td>Real Bed</td>\n",
       "      <td>$150.00</td>\n",
       "      <td>$100.00</td>\n",
       "      <td>$40.00</td>\n",
       "      <td>1</td>\n",
       "      <td>$0.00</td>\n",
       "    </tr>\n",
       "    <tr>\n",
       "      <th>2</th>\n",
       "      <td>Queen Anne</td>\n",
       "      <td>House</td>\n",
       "      <td>Entire home/apt</td>\n",
       "      <td>4.5</td>\n",
       "      <td>5.0</td>\n",
       "      <td>7.0</td>\n",
       "      <td>Real Bed</td>\n",
       "      <td>$975.00</td>\n",
       "      <td>$1,000.00</td>\n",
       "      <td>$300.00</td>\n",
       "      <td>10</td>\n",
       "      <td>$25.00</td>\n",
       "    </tr>\n",
       "    <tr>\n",
       "      <th>3</th>\n",
       "      <td>Queen Anne</td>\n",
       "      <td>Apartment</td>\n",
       "      <td>Entire home/apt</td>\n",
       "      <td>1.0</td>\n",
       "      <td>0.0</td>\n",
       "      <td>2.0</td>\n",
       "      <td>Real Bed</td>\n",
       "      <td>$100.00</td>\n",
       "      <td>NaN</td>\n",
       "      <td>NaN</td>\n",
       "      <td>1</td>\n",
       "      <td>$0.00</td>\n",
       "    </tr>\n",
       "    <tr>\n",
       "      <th>4</th>\n",
       "      <td>Queen Anne</td>\n",
       "      <td>House</td>\n",
       "      <td>Entire home/apt</td>\n",
       "      <td>2.0</td>\n",
       "      <td>3.0</td>\n",
       "      <td>3.0</td>\n",
       "      <td>Real Bed</td>\n",
       "      <td>$450.00</td>\n",
       "      <td>$700.00</td>\n",
       "      <td>$125.00</td>\n",
       "      <td>6</td>\n",
       "      <td>$15.00</td>\n",
       "    </tr>\n",
       "  </tbody>\n",
       "</table>\n",
       "</div>"
      ],
      "text/plain": [
       "  neighbourhood_group_cleansed property_type        room_type  bathrooms  \\\n",
       "0                   Queen Anne     Apartment  Entire home/apt        1.0   \n",
       "1                   Queen Anne     Apartment  Entire home/apt        1.0   \n",
       "2                   Queen Anne         House  Entire home/apt        4.5   \n",
       "3                   Queen Anne     Apartment  Entire home/apt        1.0   \n",
       "4                   Queen Anne         House  Entire home/apt        2.0   \n",
       "\n",
       "   bedrooms  beds  bed_type    price security_deposit cleaning_fee  \\\n",
       "0       1.0   1.0  Real Bed   $85.00              NaN          NaN   \n",
       "1       1.0   1.0  Real Bed  $150.00          $100.00       $40.00   \n",
       "2       5.0   7.0  Real Bed  $975.00        $1,000.00      $300.00   \n",
       "3       0.0   2.0  Real Bed  $100.00              NaN          NaN   \n",
       "4       3.0   3.0  Real Bed  $450.00          $700.00      $125.00   \n",
       "\n",
       "   guests_included extra_people  \n",
       "0                2        $5.00  \n",
       "1                1        $0.00  \n",
       "2               10       $25.00  \n",
       "3                1        $0.00  \n",
       "4                6       $15.00  "
      ]
     },
     "execution_count": 3,
     "metadata": {},
     "output_type": "execute_result"
    }
   ],
   "source": [
    "df_new = df.copy()\n",
    "dropped_columns = ['id', 'listing_url', 'scrape_id', 'last_scraped', 'name', 'summary',\n",
    "       'space', 'description', 'experiences_offered', 'neighborhood_overview',\n",
    "       'notes', 'transit', 'thumbnail_url', 'medium_url', 'picture_url',\n",
    "       'xl_picture_url', 'host_id', 'host_url', 'host_name', 'host_since',\n",
    "       'host_location', 'host_about', 'host_response_time',\n",
    "       'host_response_rate', 'host_acceptance_rate', 'host_is_superhost',\n",
    "       'host_thumbnail_url', 'host_picture_url', 'host_neighbourhood',\n",
    "       'host_listings_count', 'host_total_listings_count',\n",
    "       'host_verifications', 'host_has_profile_pic', 'host_identity_verified',\n",
    "       'street', 'neighbourhood', 'neighbourhood_cleansed', 'city', 'state', 'zipcode', 'market',\n",
    "       'smart_location', 'country_code', 'country', 'latitude', 'longitude',\n",
    "       'is_location_exact', 'square_feet','weekly_price', 'monthly_price',\n",
    "       'minimum_nights','accommodates','amenities',\n",
    "       'maximum_nights', 'calendar_updated', 'has_availability',\n",
    "       'availability_30', 'availability_60', 'availability_90',\n",
    "       'availability_365', 'calendar_last_scraped', 'review_scores_accuracy',\n",
    "       'review_scores_cleanliness', 'review_scores_checkin',\n",
    "       'review_scores_communication', 'review_scores_location',\n",
    "       'review_scores_value',\n",
    "       'first_review', 'last_review', 'requires_license','number_of_reviews', 'review_scores_rating',\n",
    "       'license', 'jurisdiction_names', 'instant_bookable',\n",
    "       'cancellation_policy', 'require_guest_profile_picture',\n",
    "       'require_guest_phone_verification', 'calculated_host_listings_count',\n",
    "       'reviews_per_month']\n",
    "df_new.drop(dropped_columns, axis=1, inplace=True)\n",
    "df_new.head()"
   ]
  },
  {
   "cell_type": "markdown",
   "id": "25f8d6c2",
   "metadata": {
    "slideshow": {
     "slide_type": "slide"
    }
   },
   "source": [
    "Now we have new dataset look simple for analysis. The first thing i look for overal of this dataset."
   ]
  },
  {
   "cell_type": "code",
   "execution_count": 4,
   "id": "08f967cf",
   "metadata": {
    "slideshow": {
     "slide_type": "slide"
    }
   },
   "outputs": [
    {
     "name": "stdout",
     "output_type": "stream",
     "text": [
      "<class 'pandas.core.frame.DataFrame'>\n",
      "RangeIndex: 3818 entries, 0 to 3817\n",
      "Data columns (total 12 columns):\n",
      " #   Column                        Non-Null Count  Dtype  \n",
      "---  ------                        --------------  -----  \n",
      " 0   neighbourhood_group_cleansed  3818 non-null   object \n",
      " 1   property_type                 3817 non-null   object \n",
      " 2   room_type                     3818 non-null   object \n",
      " 3   bathrooms                     3802 non-null   float64\n",
      " 4   bedrooms                      3812 non-null   float64\n",
      " 5   beds                          3817 non-null   float64\n",
      " 6   bed_type                      3818 non-null   object \n",
      " 7   price                         3818 non-null   object \n",
      " 8   security_deposit              1866 non-null   object \n",
      " 9   cleaning_fee                  2788 non-null   object \n",
      " 10  guests_included               3818 non-null   int64  \n",
      " 11  extra_people                  3818 non-null   object \n",
      "dtypes: float64(3), int64(1), object(8)\n",
      "memory usage: 358.1+ KB\n"
     ]
    }
   ],
   "source": [
    "df_new.info()"
   ]
  },
  {
   "cell_type": "markdown",
   "id": "6f131e6e",
   "metadata": {
    "slideshow": {
     "slide_type": "slide"
    }
   },
   "source": [
    "There are many columns have missed value. I distinguish them to 2 types. One type is we can fill data and other is we can remove them. The first is for property_type, bathrooms, bedrooms, beds. Missed value is no information and it's not good for analysis. So i will remove it. The second is for columns: security_deposit, cleaning_fee, review_scores_rating. In this case we fill missed value with 0 because we can agree with security_deposit, cleaning_fee are free and review_scores_rate = 0."
   ]
  },
  {
   "cell_type": "markdown",
   "id": "783578b8",
   "metadata": {
    "slideshow": {
     "slide_type": "slide"
    }
   },
   "source": [
    "So, the first thing, i will remove missed values"
   ]
  },
  {
   "cell_type": "code",
   "execution_count": 5,
   "id": "82d4cef1",
   "metadata": {},
   "outputs": [],
   "source": [
    "df_new.dropna(subset=['property_type','bathrooms', 'bedrooms', 'beds'], how='any', inplace=True)"
   ]
  },
  {
   "cell_type": "markdown",
   "id": "4cbd5e03",
   "metadata": {
    "slideshow": {
     "slide_type": "slide"
    }
   },
   "source": [
    "The second, i will fill missed value with 0 for other columns."
   ]
  },
  {
   "cell_type": "code",
   "execution_count": 6,
   "id": "da3a04d8",
   "metadata": {
    "slideshow": {
     "slide_type": "skip"
    }
   },
   "outputs": [
    {
     "name": "stdout",
     "output_type": "stream",
     "text": [
      "<class 'pandas.core.frame.DataFrame'>\n",
      "Int64Index: 3795 entries, 0 to 3817\n",
      "Data columns (total 12 columns):\n",
      " #   Column                        Non-Null Count  Dtype  \n",
      "---  ------                        --------------  -----  \n",
      " 0   neighbourhood_group_cleansed  3795 non-null   object \n",
      " 1   property_type                 3795 non-null   object \n",
      " 2   room_type                     3795 non-null   object \n",
      " 3   bathrooms                     3795 non-null   float64\n",
      " 4   bedrooms                      3795 non-null   float64\n",
      " 5   beds                          3795 non-null   float64\n",
      " 6   bed_type                      3795 non-null   object \n",
      " 7   price                         3795 non-null   object \n",
      " 8   security_deposit              3795 non-null   object \n",
      " 9   cleaning_fee                  3795 non-null   object \n",
      " 10  guests_included               3795 non-null   int64  \n",
      " 11  extra_people                  3795 non-null   object \n",
      "dtypes: float64(3), int64(1), object(8)\n",
      "memory usage: 385.4+ KB\n"
     ]
    }
   ],
   "source": [
    "fill_zero = lambda col: col.fillna(0)\n",
    "df_new = df_new.apply(fill_zero, axis=0)\n",
    "df_new.info()"
   ]
  },
  {
   "cell_type": "markdown",
   "id": "b9ab16cb",
   "metadata": {
    "slideshow": {
     "slide_type": "slide"
    }
   },
   "source": [
    "Now, i will convert price to number value.\n"
   ]
  },
  {
   "cell_type": "code",
   "execution_count": 7,
   "id": "4de04311",
   "metadata": {
    "slideshow": {
     "slide_type": "skip"
    }
   },
   "outputs": [],
   "source": [
    "convert_price = lambda col: col.str.replace('$','')\n",
    "df_new['price'] = df_new['price'].str.replace('[^\\d.]', '', regex=True)\n",
    "df_new[\"price\"] = pd.to_numeric(df_new[\"price\"])"
   ]
  },
  {
   "cell_type": "markdown",
   "id": "a82ec2e8",
   "metadata": {},
   "source": [
    "Now, we have tidy dataset with two types of variables: quantitical variable and categorical variable. Quantitical variables are bathrooms,bedrooms,beds,price,security_deposit,cleaning_fee, guests_included, extra_people. Categorical variables are neighbourhood_group_cleansed, property_type, room_type."
   ]
  },
  {
   "cell_type": "markdown",
   "id": "dbdbebc1",
   "metadata": {
    "slideshow": {
     "slide_type": "slide"
    }
   },
   "source": [
    "<a id='evaluate'></a>\n",
    "### Evaluate & Result\n",
    "    In this step, i will do some investigate to answer bussiness questions."
   ]
  },
  {
   "cell_type": "markdown",
   "id": "244612fd",
   "metadata": {
    "slideshow": {
     "slide_type": "slide"
    }
   },
   "source": [
    "Now, i will use heatmap chart to check correlation between quantitical variables."
   ]
  },
  {
   "cell_type": "code",
   "execution_count": 8,
   "id": "463d6670",
   "metadata": {
    "slideshow": {
     "slide_type": "subslide"
    }
   },
   "outputs": [
    {
     "data": {
      "text/plain": [
       "<AxesSubplot:>"
      ]
     },
     "execution_count": 8,
     "metadata": {},
     "output_type": "execute_result"
    },
    {
     "data": {
      "image/png": "[encoded data removed]",
      "text/plain": [
       "<Figure size 432x288 with 2 Axes>"
      ]
     },
     "metadata": {
      "needs_background": "light"
     },
     "output_type": "display_data"
    }
   ],
   "source": [
    "sns.heatmap(df_new.corr(), annot=True, fmt=\".2f\")"
   ]
  },
  {
   "cell_type": "markdown",
   "id": "589eb8d2",
   "metadata": {
    "slideshow": {
     "slide_type": "slide"
    }
   },
   "source": [
    "Look at the headmap above we see that some properties affected to price are bathrooms, bedrooms, beds, guests_included. The most affected propery is bedrooms."
   ]
  },
  {
   "cell_type": "markdown",
   "id": "e2539a16",
   "metadata": {
    "slideshow": {
     "slide_type": "slide"
    }
   },
   "source": [
    "We will check correlation between most effected property, bedrooms with price."
   ]
  },
  {
   "cell_type": "code",
   "execution_count": 9,
   "id": "4e06f392",
   "metadata": {
    "slideshow": {
     "slide_type": "subslide"
    }
   },
   "outputs": [
    {
     "data": {
      "text/plain": [
       "Text(0.5, 1.0, 'Correlation between Bedrooms number with Price')"
      ]
     },
     "execution_count": 9,
     "metadata": {},
     "output_type": "execute_result"
    },
    {
     "data": {
      "image/png": "[encoded data removed]",
      "text/plain": [
       "<Figure size 360x360 with 1 Axes>"
      ]
     },
     "metadata": {
      "needs_background": "light"
     },
     "output_type": "display_data"
    }
   ],
   "source": [
    "sns.lmplot(x='bedrooms', y='price', data=df_new)\n",
    "ax = plt.gca()\n",
    "ax.set_title(\"Correlation between Bedrooms number with Price\")"
   ]
  },
  {
   "cell_type": "markdown",
   "id": "f5d8a0a5",
   "metadata": {
    "slideshow": {
     "slide_type": "slide"
    }
   },
   "source": [
    "As the chart, correlation between bedrooms with prices is linear. When bedrooms increases, price increases and vice verse."
   ]
  },
  {
   "cell_type": "markdown",
   "id": "8368dfdc",
   "metadata": {
    "slideshow": {
     "slide_type": "slide"
    }
   },
   "source": [
    "Next we will check correlations between categorical variable with price.\n"
   ]
  },
  {
   "cell_type": "code",
   "execution_count": 10,
   "id": "17ddf7ab",
   "metadata": {
    "slideshow": {
     "slide_type": "subslide"
    }
   },
   "outputs": [
    {
     "data": {
      "image/png": "[encoded data removed]",
      "text/plain": [
       "<Figure size 1080x576 with 1 Axes>"
      ]
     },
     "metadata": {
      "needs_background": "light"
     },
     "output_type": "display_data"
    }
   ],
   "source": [
    "def draw_barchart(df, title, xlabel, ylabel, rotate):\n",
    "    \"\"\" This function is to draw barchart for dataset input. \"\"\"\n",
    "    plt.figure(figsize = [15, 8])\n",
    "    plt.title(title, fontsize=20)\n",
    "    plt.xlabel(xlabel, fontsize=18)\n",
    "    plt.ylabel(ylabel, fontsize=16)\n",
    "    plt.xticks(rotation=30, ha='right')\n",
    "    plt.bar(df[df.columns[0]], df[df.columns[1]] )\n",
    "    plt.show()\n",
    "df1 = df_new.groupby('neighbourhood_group_cleansed')['price'].mean().sort_values(ascending=False)\n",
    "df1 = df1.reset_index()\n",
    "draw_barchart(df1, 'Homestay Price Mean On Neighbourhood Group Cleansed','Neighbourhood Group Cleansed', 'Price', 30 )\n",
    "# plt.bar(df1['neighbourhood_group_cleansed'], df1['price'] )\n",
    "# plt.xticks(rotation=30, ha='right')\n",
    "# fig.suptitle('test title', fontsize=20)\n",
    "# plt.xlabel('xlabel', fontsize=18)\n",
    "# plt.ylabel('ylabel', fontsize=16)\n",
    "# plt.show()"
   ]
  },
  {
   "cell_type": "markdown",
   "id": "35ed25cb",
   "metadata": {
    "slideshow": {
     "slide_type": "slide"
    }
   },
   "source": [
    "The chart show that neighbourhood group = Magnolia has highest price."
   ]
  },
  {
   "cell_type": "code",
   "execution_count": 11,
   "id": "8e55900f",
   "metadata": {
    "slideshow": {
     "slide_type": "subslide"
    }
   },
   "outputs": [
    {
     "data": {
      "image/png": "[encoded data removed]",
      "text/plain": [
       "<Figure size 1080x576 with 1 Axes>"
      ]
     },
     "metadata": {
      "needs_background": "light"
     },
     "output_type": "display_data"
    }
   ],
   "source": [
    "\n",
    "df2 = df_new.groupby('property_type').mean()['price'].sort_values(ascending=False)\n",
    "df2 = df2.reset_index()\n",
    "# plt.xticks(rotation=30, ha='right')\n",
    "# df2.plot(kind='bar')\n",
    "# plt.xlabel('xlabel', fontsize=18)\n",
    "# plt.ylabel('ylabel', fontsize=16)\n",
    "# plt.show()\n",
    "draw_barchart(df2,'Homestay Price Mean On Property Type', 'Property Type', 'Price', 30)"
   ]
  },
  {
   "cell_type": "markdown",
   "id": "2d1e095d",
   "metadata": {
    "slideshow": {
     "slide_type": "slide"
    }
   },
   "source": [
    "The chart show that homestay with property type = Boat has higest price."
   ]
  },
  {
   "cell_type": "code",
   "execution_count": 12,
   "id": "7316f351",
   "metadata": {
    "slideshow": {
     "slide_type": "subslide"
    }
   },
   "outputs": [
    {
     "data": {
      "image/png": "[encoded data removed]",
      "text/plain": [
       "<Figure size 1080x576 with 1 Axes>"
      ]
     },
     "metadata": {
      "needs_background": "light"
     },
     "output_type": "display_data"
    }
   ],
   "source": [
    "df3 = df_new.groupby('room_type').mean()['price'].sort_values(ascending=False)\n",
    "df3 = df3.reset_index()\n",
    "# plt.xticks(rotation=30, ha='right')\n",
    "# df3.plot(kind='bar')\n",
    "draw_barchart(df3,'Homestay Price Mean On Room Type', 'Room Type', 'Price', 30)"
   ]
  },
  {
   "cell_type": "markdown",
   "id": "97e45bd0",
   "metadata": {
    "slideshow": {
     "slide_type": "slide"
    }
   },
   "source": [
    "The chart show that room type = Entire home/apt has highest price."
   ]
  },
  {
   "cell_type": "markdown",
   "id": "952bbdae",
   "metadata": {
    "slideshow": {
     "slide_type": "slide"
    }
   },
   "source": [
    "<a id='conclusion'></a>\n",
    "### Conclusion:\n",
    "    Now we can conclude as following:\n",
    "        - The price of homestay in Seattle are affected by properties bathrooms, bedrooms, beds, guests_included. The most affected property is bedrooms. This variable correlates with price linear. When the bedrooms increases, it will lead  to price increase.\n",
    "        - Homestay have neighbourhood_group_cleansed = Magnolia has the highest price\n",
    "        - Homestay have property type = boat has the highest price.\n",
    "        - Homestays have room type = Entire home/apt has the highest price."
   ]
  },
  {
   "cell_type": "markdown",
   "id": "35053e33",
   "metadata": {
    "slideshow": {
     "slide_type": "slide"
    }
   },
   "source": [
    "<a id='deploy'></a>\n",
    "### Deploy\n",
    "    deploy to local server by command:\n",
    "        !jupyter nbconvert seattle_airbnb.ipynb --to slides --post serve --no-input --no-prompt"
   ]
  },
  {
   "cell_type": "code",
   "execution_count": null,
   "id": "b0117640",
   "metadata": {
    "slideshow": {
     "slide_type": "skip"
    }
   },
   "outputs": [
    {
     "name": "stdout",
     "output_type": "stream",
     "text": [
      "[NbConvertApp] Converting notebook seattle_airbnb.ipynb to slides\n",
      "[NbConvertApp] Writing 747280 bytes to seattle_airbnb.slides.html\n",
      "[NbConvertApp] Redirecting reveal.js requests to https://cdnjs.cloudflare.com/ajax/libs/reveal.js/3.5.0\n",
      "Serving your slides at http://127.0.0.1:8000/seattle_airbnb.slides.html\n",
      "Use Control-C to stop this server\n",
      "WARNING:tornado.access:404 GET /favicon.ico (127.0.0.1) 0.72ms\n"
     ]
    }
   ],
   "source": [
    "# Use this command if you are running this file in local\n",
    "!jupyter nbconvert seattle_airbnb.ipynb --to slides --post serve --no-input --no-prompt"
   ]
  },
  {
   "cell_type": "code",
   "execution_count": null,
   "id": "de543c4f",
   "metadata": {},
   "outputs": [],
   "source": []
  }
 ],
 "metadata": {
  "celltoolbar": "Slideshow",
  "kernelspec": {
   "display_name": "Python 3 (ipykernel)",
   "language": "python",
   "name": "python3"
  },
  "language_info": {
   "codemirror_mode": {
    "name": "ipython",
    "version": 3
   },
   "file_extension": ".py",
   "mimetype": "text/x-python",
   "name": "python",
   "nbconvert_exporter": "python",
   "pygments_lexer": "ipython3",
   "version": "3.9.12"
  }
 },
 "nbformat": 4,
 "nbformat_minor": 5
}
